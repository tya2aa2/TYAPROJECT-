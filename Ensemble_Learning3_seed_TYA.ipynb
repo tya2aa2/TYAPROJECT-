{
  "cells": [
    {
      "cell_type": "markdown",
      "metadata": {
        "id": "view-in-github",
        "colab_type": "text"
      },
      "source": [
        "<a href=\"https://colab.research.google.com/github/tya2aa2/TYAPROJECT-/blob/main/Ensemble_Learning3_seed_TYA.ipynb\" target=\"_parent\"><img src=\"https://colab.research.google.com/assets/colab-badge.svg\" alt=\"Open In Colab\"/></a>"
      ]
    },
    {
      "cell_type": "markdown",
      "source": [
        "# ADHITYA MELANI EKA JANARWATI\n",
        "Building a Random Forest classifier system for the seeds dataset using the Bagging method, aimed at measuring the classification accuracy on the seeds dataset. This dataset classifies seeds into three categories (types 1, 2, and 3) based on various attributes."
      ],
      "metadata": {
        "id": "OekgH7f2tiB9"
      }
    },
    {
      "cell_type": "code",
      "execution_count": null,
      "metadata": {
        "colab": {
          "base_uri": "https://localhost:8080/"
        },
        "id": "y-ydiSzSg5K6",
        "outputId": "2f515bed-4f59-4d45-d05c-f5dfe21ea082"
      },
      "outputs": [
        {
          "name": "stdout",
          "output_type": "stream",
          "text": [
            "Looking in indexes: https://pypi.org/simple, https://us-python.pkg.dev/colab-wheels/public/simple/\n",
            "Requirement already satisfied: pandas in /usr/local/lib/python3.8/dist-packages (1.3.5)\n",
            "Requirement already satisfied: python-dateutil>=2.7.3 in /usr/local/lib/python3.8/dist-packages (from pandas) (2.8.2)\n",
            "Requirement already satisfied: pytz>=2017.3 in /usr/local/lib/python3.8/dist-packages (from pandas) (2022.6)\n",
            "Requirement already satisfied: numpy>=1.17.3 in /usr/local/lib/python3.8/dist-packages (from pandas) (1.21.6)\n",
            "Requirement already satisfied: six>=1.5 in /usr/local/lib/python3.8/dist-packages (from python-dateutil>=2.7.3->pandas) (1.15.0)\n",
            "Looking in indexes: https://pypi.org/simple, https://us-python.pkg.dev/colab-wheels/public/simple/\n",
            "Requirement already satisfied: scikit-learn in /usr/local/lib/python3.8/dist-packages (1.0.2)\n",
            "Requirement already satisfied: numpy>=1.14.6 in /usr/local/lib/python3.8/dist-packages (from scikit-learn) (1.21.6)\n",
            "Requirement already satisfied: scipy>=1.1.0 in /usr/local/lib/python3.8/dist-packages (from scikit-learn) (1.7.3)\n",
            "Requirement already satisfied: threadpoolctl>=2.0.0 in /usr/local/lib/python3.8/dist-packages (from scikit-learn) (3.1.0)\n",
            "Requirement already satisfied: joblib>=0.11 in /usr/local/lib/python3.8/dist-packages (from scikit-learn) (1.2.0)\n"
          ]
        }
      ],
      "source": [
        "!pip install pandas\n",
        "!pip install scikit-learn"
      ]
    },
    {
      "cell_type": "code",
      "execution_count": null,
      "metadata": {
        "id": "1y2W0kbig5LW"
      },
      "outputs": [],
      "source": [
        "## Isi nama dan NIM seluruh anggota kelompok di sini\n",
        "#   Nama    NIM\n",
        "#   Anita Puspita Sari (1301204389)\n",
        "#   Audry Jesica Putri (1301204119)\n",
        "#   I Gusti Ayu Tri Anjar Sari (1301204309)"
      ]
    },
    {
      "cell_type": "code",
      "execution_count": null,
      "metadata": {
        "id": "-qzUwhxJg5LY"
      },
      "outputs": [],
      "source": [
        "import numpy as np\n",
        "import pandas as pd\n",
        "from sklearn.model_selection import train_test_split\n",
        "from sklearn import tree\n",
        "from sklearn.metrics import accuracy_score"
      ]
    },
    {
      "cell_type": "markdown",
      "metadata": {
        "id": "4qd8mAz_g5Lb"
      },
      "source": [
        "# Load Dataset\n",
        "Inisialisasi variable, masukan NIM di sini untuk random state.\n",
        "\n",
        "Gunakan NIM salah satu anggota kelompok.\n",
        "\n"
      ]
    },
    {
      "cell_type": "code",
      "execution_count": null,
      "metadata": {
        "colab": {
          "background_save": true
        },
        "id": "F04UZ1Q7g5Lh"
      },
      "outputs": [],
      "source": [
        "filepath = \"./seeds_dataset.csv\"\n",
        "\n",
        "# Isi nim anda di sini\n",
        "nim = 1301204389"
      ]
    },
    {
      "cell_type": "markdown",
      "metadata": {
        "id": "F3rBltdcg5Lj"
      },
      "source": [
        "Load dataset, cek konten data\n",
        "\n",
        "Target kelas: **Category**"
      ]
    },
    {
      "cell_type": "code",
      "execution_count": null,
      "metadata": {
        "colab": {
          "base_uri": "https://localhost:8080/",
          "height": 427
        },
        "id": "Xjy5xd5pg5Lk",
        "outputId": "ad3d1c76-6cab-4f83-bd39-232cef1022e8"
      },
      "outputs": [
        {
          "data": {
            "text/html": [
              "\n",
              "  <div id=\"df-ff9c725a-5dfd-4679-ba73-8b3960082890\">\n",
              "    <div class=\"colab-df-container\">\n",
              "      <div>\n",
              "<style scoped>\n",
              "    .dataframe tbody tr th:only-of-type {\n",
              "        vertical-align: middle;\n",
              "    }\n",
              "\n",
              "    .dataframe tbody tr th {\n",
              "        vertical-align: top;\n",
              "    }\n",
              "\n",
              "    .dataframe thead th {\n",
              "        text-align: right;\n",
              "    }\n",
              "</style>\n",
              "<table border=\"1\" class=\"dataframe\">\n",
              "  <thead>\n",
              "    <tr style=\"text-align: right;\">\n",
              "      <th></th>\n",
              "      <th>Area</th>\n",
              "      <th>Perimeter</th>\n",
              "      <th>Compactness</th>\n",
              "      <th>Kernel_len</th>\n",
              "      <th>Kernel_width</th>\n",
              "      <th>Assymetry</th>\n",
              "      <th>Groove_len</th>\n",
              "      <th>Category</th>\n",
              "    </tr>\n",
              "  </thead>\n",
              "  <tbody>\n",
              "    <tr>\n",
              "      <th>143</th>\n",
              "      <td>12.22</td>\n",
              "      <td>13.32</td>\n",
              "      <td>0.8652</td>\n",
              "      <td>5.224</td>\n",
              "      <td>2.967</td>\n",
              "      <td>5.469</td>\n",
              "      <td>5.221</td>\n",
              "      <td>3</td>\n",
              "    </tr>\n",
              "    <tr>\n",
              "      <th>109</th>\n",
              "      <td>18.55</td>\n",
              "      <td>16.22</td>\n",
              "      <td>0.8865</td>\n",
              "      <td>6.153</td>\n",
              "      <td>3.674</td>\n",
              "      <td>1.738</td>\n",
              "      <td>5.894</td>\n",
              "      <td>2</td>\n",
              "    </tr>\n",
              "    <tr>\n",
              "      <th>163</th>\n",
              "      <td>12.55</td>\n",
              "      <td>13.57</td>\n",
              "      <td>0.8558</td>\n",
              "      <td>5.333</td>\n",
              "      <td>2.968</td>\n",
              "      <td>4.419</td>\n",
              "      <td>5.176</td>\n",
              "      <td>3</td>\n",
              "    </tr>\n",
              "    <tr>\n",
              "      <th>194</th>\n",
              "      <td>12.11</td>\n",
              "      <td>13.27</td>\n",
              "      <td>0.8639</td>\n",
              "      <td>5.236</td>\n",
              "      <td>2.975</td>\n",
              "      <td>4.132</td>\n",
              "      <td>5.012</td>\n",
              "      <td>3</td>\n",
              "    </tr>\n",
              "    <tr>\n",
              "      <th>81</th>\n",
              "      <td>18.72</td>\n",
              "      <td>16.19</td>\n",
              "      <td>0.8977</td>\n",
              "      <td>6.006</td>\n",
              "      <td>3.857</td>\n",
              "      <td>5.324</td>\n",
              "      <td>5.879</td>\n",
              "      <td>2</td>\n",
              "    </tr>\n",
              "    <tr>\n",
              "      <th>7</th>\n",
              "      <td>14.11</td>\n",
              "      <td>14.10</td>\n",
              "      <td>0.8911</td>\n",
              "      <td>5.420</td>\n",
              "      <td>3.302</td>\n",
              "      <td>2.700</td>\n",
              "      <td>5.000</td>\n",
              "      <td>1</td>\n",
              "    </tr>\n",
              "    <tr>\n",
              "      <th>4</th>\n",
              "      <td>16.14</td>\n",
              "      <td>14.99</td>\n",
              "      <td>0.9034</td>\n",
              "      <td>5.658</td>\n",
              "      <td>3.562</td>\n",
              "      <td>1.355</td>\n",
              "      <td>5.175</td>\n",
              "      <td>1</td>\n",
              "    </tr>\n",
              "    <tr>\n",
              "      <th>176</th>\n",
              "      <td>11.26</td>\n",
              "      <td>13.01</td>\n",
              "      <td>0.8355</td>\n",
              "      <td>5.186</td>\n",
              "      <td>2.710</td>\n",
              "      <td>5.335</td>\n",
              "      <td>5.092</td>\n",
              "      <td>3</td>\n",
              "    </tr>\n",
              "    <tr>\n",
              "      <th>170</th>\n",
              "      <td>11.02</td>\n",
              "      <td>13.00</td>\n",
              "      <td>0.8189</td>\n",
              "      <td>5.325</td>\n",
              "      <td>2.701</td>\n",
              "      <td>6.735</td>\n",
              "      <td>5.163</td>\n",
              "      <td>3</td>\n",
              "    </tr>\n",
              "    <tr>\n",
              "      <th>188</th>\n",
              "      <td>11.23</td>\n",
              "      <td>12.82</td>\n",
              "      <td>0.8594</td>\n",
              "      <td>5.089</td>\n",
              "      <td>2.821</td>\n",
              "      <td>7.524</td>\n",
              "      <td>4.957</td>\n",
              "      <td>3</td>\n",
              "    </tr>\n",
              "  </tbody>\n",
              "</table>\n",
              "</div>\n",
              "      <button class=\"colab-df-convert\" onclick=\"convertToInteractive('df-ff9c725a-5dfd-4679-ba73-8b3960082890')\"\n",
              "              title=\"Convert this dataframe to an interactive table.\"\n",
              "              style=\"display:none;\">\n",
              "        \n",
              "  <svg xmlns=\"http://www.w3.org/2000/svg\" height=\"24px\"viewBox=\"0 0 24 24\"\n",
              "       width=\"24px\">\n",
              "    <path d=\"M0 0h24v24H0V0z\" fill=\"none\"/>\n",
              "    <path d=\"M18.56 5.44l.94 2.06.94-2.06 2.06-.94-2.06-.94-.94-2.06-.94 2.06-2.06.94zm-11 1L8.5 8.5l.94-2.06 2.06-.94-2.06-.94L8.5 2.5l-.94 2.06-2.06.94zm10 10l.94 2.06.94-2.06 2.06-.94-2.06-.94-.94-2.06-.94 2.06-2.06.94z\"/><path d=\"M17.41 7.96l-1.37-1.37c-.4-.4-.92-.59-1.43-.59-.52 0-1.04.2-1.43.59L10.3 9.45l-7.72 7.72c-.78.78-.78 2.05 0 2.83L4 21.41c.39.39.9.59 1.41.59.51 0 1.02-.2 1.41-.59l7.78-7.78 2.81-2.81c.8-.78.8-2.07 0-2.86zM5.41 20L4 18.59l7.72-7.72 1.47 1.35L5.41 20z\"/>\n",
              "  </svg>\n",
              "      </button>\n",
              "      \n",
              "  <style>\n",
              "    .colab-df-container {\n",
              "      display:flex;\n",
              "      flex-wrap:wrap;\n",
              "      gap: 12px;\n",
              "    }\n",
              "\n",
              "    .colab-df-convert {\n",
              "      background-color: #E8F0FE;\n",
              "      border: none;\n",
              "      border-radius: 50%;\n",
              "      cursor: pointer;\n",
              "      display: none;\n",
              "      fill: #1967D2;\n",
              "      height: 32px;\n",
              "      padding: 0 0 0 0;\n",
              "      width: 32px;\n",
              "    }\n",
              "\n",
              "    .colab-df-convert:hover {\n",
              "      background-color: #E2EBFA;\n",
              "      box-shadow: 0px 1px 2px rgba(60, 64, 67, 0.3), 0px 1px 3px 1px rgba(60, 64, 67, 0.15);\n",
              "      fill: #174EA6;\n",
              "    }\n",
              "\n",
              "    [theme=dark] .colab-df-convert {\n",
              "      background-color: #3B4455;\n",
              "      fill: #D2E3FC;\n",
              "    }\n",
              "\n",
              "    [theme=dark] .colab-df-convert:hover {\n",
              "      background-color: #434B5C;\n",
              "      box-shadow: 0px 1px 3px 1px rgba(0, 0, 0, 0.15);\n",
              "      filter: drop-shadow(0px 1px 2px rgba(0, 0, 0, 0.3));\n",
              "      fill: #FFFFFF;\n",
              "    }\n",
              "  </style>\n",
              "\n",
              "      <script>\n",
              "        const buttonEl =\n",
              "          document.querySelector('#df-ff9c725a-5dfd-4679-ba73-8b3960082890 button.colab-df-convert');\n",
              "        buttonEl.style.display =\n",
              "          google.colab.kernel.accessAllowed ? 'block' : 'none';\n",
              "\n",
              "        async function convertToInteractive(key) {\n",
              "          const element = document.querySelector('#df-ff9c725a-5dfd-4679-ba73-8b3960082890');\n",
              "          const dataTable =\n",
              "            await google.colab.kernel.invokeFunction('convertToInteractive',\n",
              "                                                     [key], {});\n",
              "          if (!dataTable) return;\n",
              "\n",
              "          const docLinkHtml = 'Like what you see? Visit the ' +\n",
              "            '<a target=\"_blank\" href=https://colab.research.google.com/notebooks/data_table.ipynb>data table notebook</a>'\n",
              "            + ' to learn more about interactive tables.';\n",
              "          element.innerHTML = '';\n",
              "          dataTable['output_type'] = 'display_data';\n",
              "          await google.colab.output.renderOutput(dataTable, element);\n",
              "          const docLink = document.createElement('div');\n",
              "          docLink.innerHTML = docLinkHtml;\n",
              "          element.appendChild(docLink);\n",
              "        }\n",
              "      </script>\n",
              "    </div>\n",
              "  </div>\n",
              "  "
            ],
            "text/plain": [
              "      Area  Perimeter  Compactness  Kernel_len  Kernel_width  Assymetry  \\\n",
              "143  12.22      13.32       0.8652       5.224         2.967      5.469   \n",
              "109  18.55      16.22       0.8865       6.153         3.674      1.738   \n",
              "163  12.55      13.57       0.8558       5.333         2.968      4.419   \n",
              "194  12.11      13.27       0.8639       5.236         2.975      4.132   \n",
              "81   18.72      16.19       0.8977       6.006         3.857      5.324   \n",
              "7    14.11      14.10       0.8911       5.420         3.302      2.700   \n",
              "4    16.14      14.99       0.9034       5.658         3.562      1.355   \n",
              "176  11.26      13.01       0.8355       5.186         2.710      5.335   \n",
              "170  11.02      13.00       0.8189       5.325         2.701      6.735   \n",
              "188  11.23      12.82       0.8594       5.089         2.821      7.524   \n",
              "\n",
              "     Groove_len  Category  \n",
              "143       5.221         3  \n",
              "109       5.894         2  \n",
              "163       5.176         3  \n",
              "194       5.012         3  \n",
              "81        5.879         2  \n",
              "7         5.000         1  \n",
              "4         5.175         1  \n",
              "176       5.092         3  \n",
              "170       5.163         3  \n",
              "188       4.957         3  "
            ]
          },
          "execution_count": 5,
          "metadata": {},
          "output_type": "execute_result"
        }
      ],
      "source": [
        "df = pd.read_csv(filepath, sep=\"\\t\")\n",
        "df.sample(10, random_state=nim)"
      ]
    },
    {
      "cell_type": "markdown",
      "metadata": {
        "id": "U_lBoZ-5g5Lm"
      },
      "source": [
        "Training/test split **60/40**"
      ]
    },
    {
      "cell_type": "code",
      "execution_count": null,
      "metadata": {
        "colab": {
          "base_uri": "https://localhost:8080/"
        },
        "id": "1wqMrmEqg5Ln",
        "outputId": "1cd74a4f-c3d0-469d-ac83-8ef3416f215d"
      },
      "outputs": [
        {
          "data": {
            "text/plain": [
              "(126, 84)"
            ]
          },
          "execution_count": 6,
          "metadata": {},
          "output_type": "execute_result"
        }
      ],
      "source": [
        "# X: semua kolom, Y: kolom terakhir (category)\n",
        "x = df.iloc[:, 0:-1]\n",
        "y = df.iloc[:, -1]\n",
        "x_train, x_test, y_train, y_test = train_test_split(x, y, train_size=0.6, random_state=nim)\n",
        "\n",
        "# We perform bootstrap on the train data\n",
        "# Keep test data for final accuracy testing\n",
        "len(x_train), len(x_test)"
      ]
    },
    {
      "cell_type": "markdown",
      "metadata": {
        "id": "D9_k8t1jg5Lp"
      },
      "source": [
        "# Random Forest\n",
        "Build a Random Forest, consisting of 20 Decision Tree classifer, with the following steps:\n",
        "\n",
        "1. Prepare Bootstrap data (choose randomly from the *training data*, use sampling with replacement)\n",
        "2. Choose 2-4 random features/atributes for each tree\n",
        "3. Build Decision Tree classifier using step (1) and (2)\n",
        "4. Calculate OOB score within the tree only\n",
        "\n",
        "**NOTE**\n",
        "This whole exercise has been simplified.\n",
        "- Tree can be created using a library, therefore you may not be able control the feature selection on node level\n",
        "- Random features are only selected in the beginning of each tree.\n",
        "- OOB score is only calculated within its own tree instead.\n",
        "- Typically Random Forest don't use train/test split and can be validated using OOB error. We simplify this to make it easier to test.\n",
        "- You are not allowed to use a Random Forest or Bagging library.\n"
      ]
    },
    {
      "cell_type": "code",
      "execution_count": null,
      "metadata": {
        "colab": {
          "base_uri": "https://localhost:8080/"
        },
        "id": "q7HOQ2FTg5Lr",
        "outputId": "34a189d8-7845-48dd-d731-2530f28a9c23"
      },
      "outputs": [
        {
          "name": "stdout",
          "output_type": "stream",
          "text": [
            "nr of OOB items= 46\n",
            "Selected attributes = ['Groove_len' 'Kernel_len']\n",
            "OOB Score = 0.8913\n",
            " \n",
            "nr of OOB items= 47\n",
            "Selected attributes = ['Assymetry' 'Compactness']\n",
            "OOB Score = 0.5319\n",
            " \n",
            "nr of OOB items= 49\n",
            "Selected attributes = ['Compactness' 'Perimeter' 'Kernel_width']\n",
            "OOB Score = 0.7755\n",
            " \n",
            "nr of OOB items= 42\n",
            "Selected attributes = ['Perimeter' 'Assymetry']\n",
            "OOB Score = 0.8571\n",
            " \n",
            "nr of OOB items= 48\n",
            "Selected attributes = ['Assymetry' 'Groove_len']\n",
            "OOB Score = 0.8125\n",
            " \n",
            "nr of OOB items= 48\n",
            "Selected attributes = ['Area' 'Groove_len' 'Kernel_width']\n",
            "OOB Score = 0.8750\n",
            " \n",
            "nr of OOB items= 47\n",
            "Selected attributes = ['Kernel_width' 'Compactness' 'Kernel_len']\n",
            "OOB Score = 0.8936\n",
            " \n",
            "nr of OOB items= 51\n",
            "Selected attributes = ['Perimeter' 'Kernel_width']\n",
            "OOB Score = 0.6863\n",
            " \n",
            "nr of OOB items= 42\n",
            "Selected attributes = ['Area' 'Kernel_len' 'Kernel_width']\n",
            "OOB Score = 0.8333\n",
            " \n",
            "nr of OOB items= 44\n",
            "Selected attributes = ['Groove_len' 'Kernel_width']\n",
            "OOB Score = 0.7955\n",
            " \n",
            "nr of OOB items= 46\n",
            "Selected attributes = ['Perimeter' 'Area' 'Groove_len']\n",
            "OOB Score = 0.8478\n",
            " \n",
            "nr of OOB items= 48\n",
            "Selected attributes = ['Kernel_len' 'Perimeter' 'Area']\n",
            "OOB Score = 0.9375\n",
            " \n",
            "nr of OOB items= 42\n",
            "Selected attributes = ['Perimeter' 'Kernel_len']\n",
            "OOB Score = 0.9048\n",
            " \n",
            "nr of OOB items= 48\n",
            "Selected attributes = ['Groove_len' 'Area']\n",
            "OOB Score = 0.8542\n",
            " \n",
            "nr of OOB items= 47\n",
            "Selected attributes = ['Groove_len' 'Kernel_width' 'Assymetry']\n",
            "OOB Score = 0.8723\n",
            " \n",
            "nr of OOB items= 48\n",
            "Selected attributes = ['Kernel_len' 'Perimeter']\n",
            "OOB Score = 0.8333\n",
            " \n",
            "nr of OOB items= 49\n",
            "Selected attributes = ['Kernel_len' 'Kernel_width']\n",
            "OOB Score = 0.7551\n",
            " \n",
            "nr of OOB items= 45\n",
            "Selected attributes = ['Compactness' 'Groove_len' 'Perimeter']\n",
            "OOB Score = 0.9333\n",
            " \n",
            "nr of OOB items= 41\n",
            "Selected attributes = ['Kernel_len' 'Compactness']\n",
            "OOB Score = 0.7561\n",
            " \n",
            "nr of OOB items= 47\n",
            "Selected attributes = ['Groove_len' 'Assymetry' 'Perimeter']\n",
            "OOB Score = 0.8723\n",
            " \n"
          ]
        }
      ],
      "source": [
        "np.random.seed(nim)\n",
        "n_tree = 20\n",
        "\n",
        "forest = []\n",
        "bootstrap_columns = []\n",
        "for i in range(n_tree):\n",
        "    # 1. Bootstrapping\n",
        "    # select random rows\n",
        "    rows = np.random.choice(x_train.index, size=len(x_train), replace=True)\n",
        "    x_bootstrap = x_train.loc[rows]\n",
        "    y_bootstrap = y_train.loc[rows]\n",
        "\n",
        "    # Out of Bag data\n",
        "    non_selected_rows = list(set(x_train.index)-set(rows))\n",
        "    total_non_selected_rows = len(non_selected_rows)\n",
        "    print(f\"nr of OOB items= {total_non_selected_rows}\")\n",
        "    x_oob = x_train.loc[non_selected_rows]\n",
        "    y_oob = y_train.loc[non_selected_rows]\n",
        "\n",
        "    # 2. Select random features (make sure to keep track the selected columns)\n",
        "    # Check for any repeated combinations\n",
        "    feature_taken = np.random.randint(2, 4)\n",
        "    cols = np.random.choice(x_train.columns, size=feature_taken, replace=False)\n",
        "    print(f\"Selected attributes = {cols}\")\n",
        "    bootstrap_columns.append(cols)\n",
        "\n",
        "    # filter based on the selected columns\n",
        "    x_bootstrap = x_bootstrap[cols]\n",
        "\n",
        "    # 3. Build decision tree\n",
        "    # Let it grow, no pruning\n",
        "    tree_model = tree.DecisionTreeClassifier(max_depth=None)\n",
        "    tree_model.fit(x_bootstrap, y_bootstrap)\n",
        "\n",
        "    # Add it to the forest\n",
        "    forest.append(tree_model)\n",
        "\n",
        "    # 4. Calculate oob score only within its own tree\n",
        "    # ....\n",
        "    oob_score = tree_model.score(x_oob[cols], y_oob)\n",
        "    print(f\"OOB Score = {oob_score:.4f}\")\n",
        "    print(\" \")"
      ]
    },
    {
      "cell_type": "markdown",
      "metadata": {
        "id": "6X5GmC6Fg5Ls"
      },
      "source": [
        "# Prediction and Voting\n",
        "Run prediction on x_test data for each tree\n",
        "\n",
        "Also calculate accuracy per tree here"
      ]
    },
    {
      "cell_type": "code",
      "execution_count": null,
      "metadata": {
        "colab": {
          "base_uri": "https://localhost:8080/"
        },
        "id": "1OLxAVnMg5Ls",
        "outputId": "33700f87-f234-4daa-bfc9-e7ae3df0078f"
      },
      "outputs": [
        {
          "name": "stdout",
          "output_type": "stream",
          "text": [
            "Tree 1 accuracy: 0.9048\n",
            "Tree 2 accuracy: 0.5714\n",
            "Tree 3 accuracy: 0.7500\n",
            "Tree 4 accuracy: 0.8452\n",
            "Tree 5 accuracy: 0.8214\n",
            "Tree 6 accuracy: 0.8452\n",
            "Tree 7 accuracy: 0.8095\n",
            "Tree 8 accuracy: 0.7262\n",
            "Tree 9 accuracy: 0.7738\n",
            "Tree 10 accuracy: 0.8333\n",
            "Tree 11 accuracy: 0.8333\n",
            "Tree 12 accuracy: 0.7619\n",
            "Tree 13 accuracy: 0.7976\n",
            "Tree 14 accuracy: 0.8452\n",
            "Tree 15 accuracy: 0.8214\n",
            "Tree 16 accuracy: 0.7976\n",
            "Tree 17 accuracy: 0.7500\n",
            "Tree 18 accuracy: 0.9167\n",
            "Tree 19 accuracy: 0.7738\n",
            "Tree 20 accuracy: 0.9286\n"
          ]
        }
      ],
      "source": [
        "all_preds = []\n",
        "for i, tree_model in enumerate(forest):\n",
        "    # Each tree has different column requirements\n",
        "    # Make sure you use the correct columns for each tree\n",
        "    x_test_filtered = x_test[bootstrap_columns[i]]\n",
        "\n",
        "    predictions = tree_model.predict(x_test_filtered)\n",
        "\n",
        "    # Might as well calculate accuracy per tree here...\n",
        "\n",
        "    acc = accuracy_score(y_test, predictions)\n",
        "    print(f\"Tree {i+1} accuracy: {acc:.4f}\")\n",
        "\n",
        "    # add it to all_preds for voting later\n",
        "    all_preds.append(predictions)\n",
        "\n",
        "all_preds = np.array(all_preds)"
      ]
    },
    {
      "cell_type": "markdown",
      "metadata": {
        "id": "nrLKTmy9g5Lu"
      },
      "source": [
        "### Perform voting on the predictions from the Random Forest"
      ]
    },
    {
      "cell_type": "code",
      "execution_count": null,
      "metadata": {
        "colab": {
          "base_uri": "https://localhost:8080/"
        },
        "id": "-7v61TnTg5Lv",
        "outputId": "f0e0e528-e986-460d-aea8-10b920cb009f"
      },
      "outputs": [
        {
          "data": {
            "text/plain": [
              "84.52380952380952"
            ]
          },
          "execution_count": 15,
          "metadata": {},
          "output_type": "execute_result"
        }
      ],
      "source": [
        "# Insert voting code here\n",
        "# ...\n",
        "# ...\n",
        "#\n",
        "voted_predictions = np.apply_along_axis(lambda x: np.argmax(np.bincount(x)), axis=0, arr=all_preds)\n",
        "\n",
        "# Calculate accuracy of Test data on the Forest\n",
        "acc = accuracy_score(y_test, voted_predictions)*100\n",
        "acc"
      ]
    },
    {
      "cell_type": "markdown",
      "metadata": {
        "id": "Wi-G3fqpg5Lw"
      },
      "source": [
        "After you're done with all this, please check the excel file and put the answers for every column there."
      ]
    }
  ],
  "metadata": {
    "colab": {
      "provenance": [],
      "include_colab_link": true
    },
    "kernelspec": {
      "display_name": "Python 3.10.8 ('tugas3')",
      "language": "python",
      "name": "python3"
    },
    "language_info": {
      "codemirror_mode": {
        "name": "ipython",
        "version": 3
      },
      "file_extension": ".py",
      "mimetype": "text/x-python",
      "name": "python",
      "nbconvert_exporter": "python",
      "pygments_lexer": "ipython3",
      "version": "3.10.8"
    },
    "vscode": {
      "interpreter": {
        "hash": "486ee4d26de12a9ebc4c044e4309648e10037d9316726c9d112e2ad4a1fad8b4"
      }
    }
  },
  "nbformat": 4,
  "nbformat_minor": 0
}